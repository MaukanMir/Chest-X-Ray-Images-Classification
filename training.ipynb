{
 "cells": [
  {
   "cell_type": "markdown",
   "metadata": {},
   "source": [
    "# Chest X-Ray Classification Analysis"
   ]
  },
  {
   "cell_type": "markdown",
   "metadata": {},
   "source": [
    "# Imports"
   ]
  },
  {
   "cell_type": "code",
   "execution_count": 4,
   "metadata": {},
   "outputs": [],
   "source": [
    "import os\n",
    "\n",
    "import numpy as np\n",
    "import seaborn as sns\n",
    "import matplotlib.pyplot as plt\n",
    "\n",
    "from PIL import Image, ImageFile"
   ]
  },
  {
   "cell_type": "markdown",
   "metadata": {},
   "source": [
    "# Create Paths"
   ]
  },
  {
   "cell_type": "code",
   "execution_count": 2,
   "metadata": {},
   "outputs": [],
   "source": [
    "PATH = \"/Users/maukamir/Downloads/chest_xray/\"\n",
    "train_path, val_path, test_path = PATH + \"train\", PATH + \"val\", PATH + \"test\""
   ]
  },
  {
   "cell_type": "markdown",
   "metadata": {},
   "source": [
    "# Constants"
   ]
  },
  {
   "cell_type": "code",
   "execution_count": 3,
   "metadata": {},
   "outputs": [],
   "source": [
    "BATCH_SIZE = 32\n",
    "INPUT_SHAPE = (224,224,3)"
   ]
  },
  {
   "cell_type": "markdown",
   "metadata": {},
   "source": [
    "# Functions"
   ]
  },
  {
   "cell_type": "code",
   "execution_count": 5,
   "metadata": {},
   "outputs": [],
   "source": [
    "ImageFile.LOAD_TRUNCATED_IMAGES = True\n",
    "\n",
    "def process_load_image(img_path, target_size=INPUT_SHAPE):\n",
    "  try:\n",
    "    with Image.open(img_path) as img:\n",
    "      img = img.resize(target_size)\n",
    "      img = img.convert(\"RGB\")\n",
    "      \n",
    "      img_array = np.array(img)/255.0\n",
    "      img_array = img_array.astype(np.float32)\n",
    "      return img_array\n",
    "  except IOError as e:\n",
    "    print(f\"Failure in loading this image: {e}\")\n",
    "    return None\n",
    "\n",
    "\n",
    "def grab_images(path):\n",
    "  \n",
    "  images, labels = [],[]\n",
    "  \n",
    "  for root, dir, files in os.walk(path):\n",
    "    for file in files:\n",
    "      img_path = os.path.join(root, file)\n",
    "      img = process_load_image(img_path)\n",
    "      if img is not None:\n",
    "        images.append(img)\n",
    "        label = os.sep(root)[:-1]\n",
    "        labels.append(label)\n",
    "  \n",
    "  images, labels = np.array(images), np.array(labels)\n",
    "  \n",
    "  return images, labels\n",
    "\n"
   ]
  },
  {
   "cell_type": "markdown",
   "metadata": {},
   "source": [
    "# Load and Extract Images"
   ]
  },
  {
   "cell_type": "code",
   "execution_count": null,
   "metadata": {},
   "outputs": [],
   "source": []
  }
 ],
 "metadata": {
  "kernelspec": {
   "display_name": "machine-learning-env",
   "language": "python",
   "name": "python3"
  },
  "language_info": {
   "codemirror_mode": {
    "name": "ipython",
    "version": 3
   },
   "file_extension": ".py",
   "mimetype": "text/x-python",
   "name": "python",
   "nbconvert_exporter": "python",
   "pygments_lexer": "ipython3",
   "version": "3.9.19"
  }
 },
 "nbformat": 4,
 "nbformat_minor": 2
}
